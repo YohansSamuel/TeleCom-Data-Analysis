{
 "cells": [
  {
   "cell_type": "markdown",
   "metadata": {},
   "source": [
    "## Exploratory Data Analysis\n",
    "\n",
    "### Data Cleaning\n",
    "* Loading the Dataset\n",
    "* Understanding the Dataset\n",
    "* Looking for null values in the Dataset\n",
    "* Handling missing values using different techniques\n",
    "* Save cleaned Dataset"
   ]
  },
  {
   "cell_type": "code",
   "execution_count": null,
   "metadata": {},
   "outputs": [],
   "source": []
  },
  {
   "cell_type": "markdown",
   "metadata": {},
   "source": [
    "### Data Tranformation\n",
    "* Loading the Dataset\n",
    "* Understanding the Dataset\n",
    "* Looking for null values in the Dataset\n",
    "* Handling missing values using different techniques\n",
    "* Save cleaned Dataset"
   ]
  },
  {
   "cell_type": "code",
   "execution_count": null,
   "metadata": {},
   "outputs": [],
   "source": []
  },
  {
   "cell_type": "markdown",
   "metadata": {},
   "source": [
    "### Data Extraction\n",
    "* Loading the Dataset\n",
    "* Understanding the Dataset\n",
    "* Looking for null values in the Dataset\n",
    "* Handling missing values using different techniques\n",
    "* Save cleaned Dataset"
   ]
  }
 ],
 "metadata": {
  "kernelspec": {
   "display_name": "Python 3.10.4 64-bit",
   "language": "python",
   "name": "python3"
  },
  "language_info": {
   "name": "python",
   "version": "3.10.4"
  },
  "orig_nbformat": 4,
  "vscode": {
   "interpreter": {
    "hash": "916dbcbb3f70747c44a77c7bcd40155683ae19c65e1c03b4aa3499c5328201f1"
   }
  }
 },
 "nbformat": 4,
 "nbformat_minor": 2
}
