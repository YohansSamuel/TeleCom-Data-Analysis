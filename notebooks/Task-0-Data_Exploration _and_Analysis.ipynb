{
 "cells": [
  {
   "cell_type": "markdown",
   "metadata": {},
   "source": [
    "## Exploratory Data Analysis\n",
    "\n",
    "### Data Cleaning\n",
    "* Loading the Dataset\n",
    "* Understanding the Dataset\n",
    "* Looking for null values in the Dataset\n",
    "* Handling missing values using different techniques\n",
    "* Save cleaned Dataset"
   ]
  },
  {
   "cell_type": "code",
   "execution_count": 2,
   "metadata": {},
   "outputs": [],
   "source": [
    "# import the required packages and modueles\n",
    "import pandas as pd\n",
    "import numpy as np\n",
    "from numpy import percentile\n",
    "\n",
    "import seaborn as sns\n",
    "import matplotlib.pyplot as plt\n",
    "\n",
    "# ignore warnings\n",
    "import warnings\n",
    "warnings.filterwarnings('ignore')\n"
   ]
  },
  {
   "cell_type": "code",
   "execution_count": null,
   "metadata": {},
   "outputs": [],
   "source": []
  },
  {
   "cell_type": "markdown",
   "metadata": {},
   "source": [
    "### Data Tranformation\n",
    "* Loading the Dataset\n",
    "* Understanding the Dataset\n",
    "* Looking for null values in the Dataset\n",
    "* Handling missing values using different techniques\n",
    "* Save cleaned Dataset"
   ]
  },
  {
   "cell_type": "code",
   "execution_count": null,
   "metadata": {},
   "outputs": [],
   "source": []
  },
  {
   "cell_type": "markdown",
   "metadata": {},
   "source": [
    "### Data Extraction\n",
    "* Loading the Dataset\n",
    "* Understanding the Dataset\n",
    "* Looking for null values in the Dataset\n",
    "* Handling missing values using different techniques\n",
    "* Save cleaned Dataset"
   ]
  },
  {
   "cell_type": "markdown",
   "metadata": {},
   "source": []
  }
 ],
 "metadata": {
  "kernelspec": {
   "display_name": "Python 3.9.12 ('base')",
   "language": "python",
   "name": "python3"
  },
  "language_info": {
   "codemirror_mode": {
    "name": "ipython",
    "version": 3
   },
   "file_extension": ".py",
   "mimetype": "text/x-python",
   "name": "python",
   "nbconvert_exporter": "python",
   "pygments_lexer": "ipython3",
   "version": "3.9.12"
  },
  "orig_nbformat": 4,
  "vscode": {
   "interpreter": {
    "hash": "3a2a75ce191f28e035d7a5280b77bfa37788e6cec4d1bb87cb6691e95ad1f25d"
   }
  }
 },
 "nbformat": 4,
 "nbformat_minor": 2
}
